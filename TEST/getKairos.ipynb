{
 "cells": [
  {
   "cell_type": "markdown",
   "metadata": {},
   "source": [
    "## IMPORTS"
   ]
  },
  {
   "cell_type": "code",
   "execution_count": 1,
   "metadata": {},
   "outputs": [],
   "source": [
    "import requests\n",
    "from bs4 import BeautifulSoup\n",
    "import requests\n",
    "import json\n",
    "import re\n",
    "import zipfile\n",
    "import pyodbc\n"
   ]
  },
  {
   "cell_type": "markdown",
   "metadata": {},
   "source": [
    "## GET FIRST SET OF COOKIES"
   ]
  },
  {
   "cell_type": "code",
   "execution_count": 2,
   "metadata": {},
   "outputs": [],
   "source": [
    "urlIndex = \"https://ar.kairosweb.com/\"\n",
    "sesion = requests.Session()\n",
    "response = sesion.get(urlIndex)"
   ]
  },
  {
   "cell_type": "code",
   "execution_count": 3,
   "metadata": {},
   "outputs": [
    {
     "name": "stdout",
     "output_type": "stream",
     "text": [
      "responseCookies <RequestsCookieJar[<Cookie __wpdm_client=7afd32acfc33b9c462944c4c86f08906 for ar.kairosweb.com/>, <Cookie _learn_press_session_32928db1270e4fa92127688908034133=c40a6c469559206049c83f6d668e6796%7C%7C1702485781%7C%7Ca6e72517025b73d6ce8896ca4923e4e9 for ar.kairosweb.com/>, <Cookie _wordpress_lp_guest=13739313eb378a273e26121b564ef47d for ar.kairosweb.com/>]>\n",
      "sessionCookies <RequestsCookieJar[<Cookie __wpdm_client=7afd32acfc33b9c462944c4c86f08906 for ar.kairosweb.com/>, <Cookie _learn_press_session_32928db1270e4fa92127688908034133=c40a6c469559206049c83f6d668e6796%7C%7C1702485781%7C%7Ca6e72517025b73d6ce8896ca4923e4e9 for ar.kairosweb.com/>, <Cookie _wordpress_lp_guest=13739313eb378a273e26121b564ef47d for ar.kairosweb.com/>]>\n",
      "<class 'str'>\n"
     ]
    }
   ],
   "source": [
    "responseHeaders = dict(response.headers)\n",
    "responseHeadersFormated = json.dumps(responseHeaders, indent=4)\n",
    "\n",
    "headerCFRAY = responseHeaders[\"CF-RAY\"]\n",
    "headerCFRAY = headerCFRAY.split(\"-\")[0]\n",
    "\n",
    "responseCookies = response.cookies\n",
    "print(\"responseCookies\", responseCookies)\n",
    "print(\"sessionCookies\", sesion.cookies)\n",
    "\n",
    "responseBody = response.text\n",
    "body = BeautifulSoup(responseBody, \"html.parser\")\n",
    "securityLogin = body.find(\"input\", {\"id\": \"security-login\", \"name\":\"security-login\"})\n",
    "securityLoginValue=securityLogin.attrs[\"value\"]\n",
    "\n",
    "print(type(securityLoginValue))\n",
    "\n",
    "\n"
   ]
  },
  {
   "cell_type": "markdown",
   "metadata": {},
   "source": [
    "## GET LINK TO SECOND SET OF COOKIES"
   ]
  },
  {
   "cell_type": "code",
   "execution_count": 4,
   "metadata": {},
   "outputs": [],
   "source": [
    "soup = BeautifulSoup(responseBody, \"html.parser\")\n",
    "scripts = soup.find_all(\"script\")\n",
    "\n",
    "parametro_r=\"\"\n",
    "\n",
    "for script in scripts:\n",
    "    if script.string:\n",
    "        match = re.search(\n",
    "            r\"window\\['__CF\\$cv\\$params'\\]=\\{r:'(.*?)'\", script.string)\n",
    "        if match:\n",
    "            parametro_r = match.group(1)\n",
    "            "
   ]
  },
  {
   "cell_type": "code",
   "execution_count": null,
   "metadata": {},
   "outputs": [],
   "source": [
    "print(\"parametro_r:\", type(parametro_r))\n",
    "print(\"parametro_r:\", parametro_r)\n",
    "print(\"headerCFRAY: \", type(headerCFRAY))\n",
    "print(\"headerCFRAY: \", headerCFRAY)\n"
   ]
  },
  {
   "cell_type": "markdown",
   "metadata": {},
   "source": [
    "## GET SECOND SET OF COOKIES"
   ]
  },
  {
   "cell_type": "code",
   "execution_count": 5,
   "metadata": {},
   "outputs": [
    {
     "name": "stdout",
     "output_type": "stream",
     "text": [
      "secondSetCookies:  https://ar.kairosweb.com/cdn-cgi/challenge-platform/h/b/jsd/r/833f2f228d77c823\n",
      "response2:  <Response [200]>\n",
      "sesion:  <RequestsCookieJar[<Cookie __wpdm_client=7afd32acfc33b9c462944c4c86f08906 for ar.kairosweb.com/>, <Cookie _learn_press_session_32928db1270e4fa92127688908034133=c40a6c469559206049c83f6d668e6796%7C%7C1702485781%7C%7Ca6e72517025b73d6ce8896ca4923e4e9 for ar.kairosweb.com/>, <Cookie _wordpress_lp_guest=13739313eb378a273e26121b564ef47d for ar.kairosweb.com/>, <Cookie cf_clearance=TvlDQZpe.4lZQBrSe8d1eplFv.nssLWGa1YI5ib6eI8-1702312998-0-1-cb20db7e.70214d3b.9c21849e-0.1.1702312998 for .kairosweb.com/>]>\n"
     ]
    }
   ],
   "source": [
    "if parametro_r == headerCFRAY:\n",
    "    secondSetCookies =  \"https://ar.kairosweb.com/cdn-cgi/challenge-platform/h/b/jsd/r/\"+parametro_r\n",
    "    print(\"secondSetCookies: \", secondSetCookies)\n",
    "    response2 = sesion.post(secondSetCookies)\n",
    "    print(\"response2: \", response2)\n",
    "    print(\"sesion: \", sesion.cookies)"
   ]
  },
  {
   "cell_type": "markdown",
   "metadata": {},
   "source": [
    "## LOGIN"
   ]
  },
  {
   "cell_type": "code",
   "execution_count": 6,
   "metadata": {},
   "outputs": [
    {
     "name": "stdout",
     "output_type": "stream",
     "text": [
      "response <RequestsCookieJar[<Cookie _learn_press_session_32928db1270e4fa92127688908034133=c40a6c469559206049c83f6d668e6796%7C%7C1702485781%7C%7Ca6e72517025b73d6ce8896ca4923e4e9 for ar.kairosweb.com/>, <Cookie wordpress_logged_in_32928db1270e4fa92127688908034133=compras%40drogueriacomarsa.com.ar%7C1703522602%7C2MAV9UgQ94Lt2293GWSEkIY6ppBZkMFHklX3ZTGRbUF%7Cbe44c3caade7f629e0df0a35279c106e0650bd65d0614153724b1171d3b8463a for ar.kairosweb.com/>, <Cookie wordpress_sec_32928db1270e4fa92127688908034133=compras%40drogueriacomarsa.com.ar%7C1703522602%7C2MAV9UgQ94Lt2293GWSEkIY6ppBZkMFHklX3ZTGRbUF%7C59ca0463d3ba31152f674446813bd2da4d9adbeb4aa4abe5f777f4fd56d87d0d for ar.kairosweb.com/wp-content/plugins>, <Cookie wordpress_sec_32928db1270e4fa92127688908034133=compras%40drogueriacomarsa.com.ar%7C1703522602%7C2MAV9UgQ94Lt2293GWSEkIY6ppBZkMFHklX3ZTGRbUF%7C59ca0463d3ba31152f674446813bd2da4d9adbeb4aa4abe5f777f4fd56d87d0d for ar.kairosweb.com/wp-admin>]>\n",
      "sesion:  <RequestsCookieJar[<Cookie __wpdm_client=7afd32acfc33b9c462944c4c86f08906 for ar.kairosweb.com/>, <Cookie _learn_press_session_32928db1270e4fa92127688908034133=c40a6c469559206049c83f6d668e6796%7C%7C1702485781%7C%7Ca6e72517025b73d6ce8896ca4923e4e9 for ar.kairosweb.com/>, <Cookie _wordpress_lp_guest=13739313eb378a273e26121b564ef47d for ar.kairosweb.com/>, <Cookie wordpress_logged_in_32928db1270e4fa92127688908034133=compras%40drogueriacomarsa.com.ar%7C1703522602%7C2MAV9UgQ94Lt2293GWSEkIY6ppBZkMFHklX3ZTGRbUF%7Cbe44c3caade7f629e0df0a35279c106e0650bd65d0614153724b1171d3b8463a for ar.kairosweb.com/>, <Cookie wordpress_sec_32928db1270e4fa92127688908034133=compras%40drogueriacomarsa.com.ar%7C1703522602%7C2MAV9UgQ94Lt2293GWSEkIY6ppBZkMFHklX3ZTGRbUF%7C59ca0463d3ba31152f674446813bd2da4d9adbeb4aa4abe5f777f4fd56d87d0d for ar.kairosweb.com/wp-content/plugins>, <Cookie wordpress_sec_32928db1270e4fa92127688908034133=compras%40drogueriacomarsa.com.ar%7C1703522602%7C2MAV9UgQ94Lt2293GWSEkIY6ppBZkMFHklX3ZTGRbUF%7C59ca0463d3ba31152f674446813bd2da4d9adbeb4aa4abe5f777f4fd56d87d0d for ar.kairosweb.com/wp-admin>, <Cookie cf_clearance=TvlDQZpe.4lZQBrSe8d1eplFv.nssLWGa1YI5ib6eI8-1702312998-0-1-cb20db7e.70214d3b.9c21849e-0.1.1702312998 for .kairosweb.com/>]>\n"
     ]
    }
   ],
   "source": [
    "params = {\n",
    "    \"username\": \"compras@drogueriacomarsa.com.ar\",\n",
    "    \"password\": \"comarsa+2944\",\n",
    "    \"remember-me\": \"on\",\n",
    "    \"redirect_to\":\"\", \n",
    "    \"lrm_action\": \"login\",\n",
    "    \"wp-submit\": \"1\",\n",
    "    \"lp-ajax\": \"login\",\n",
    "    \"security-login\": securityLoginValue,\n",
    "    \"_wp_http_referer\": \"/\"\n",
    "}\n",
    "\n",
    "response = sesion.post(\"https://ar.kairosweb.com/?lrm=1\", data=params)\n",
    "print(\"response\", response.cookies)\n",
    "print(\"sesion: \", sesion.cookies)"
   ]
  },
  {
   "cell_type": "markdown",
   "metadata": {},
   "source": [
    "## GET TO kairos-base-de-datos"
   ]
  },
  {
   "cell_type": "code",
   "execution_count": 7,
   "metadata": {},
   "outputs": [
    {
     "name": "stdout",
     "output_type": "stream",
     "text": [
      "enlaces: [<a class=\"wpdm-download-link download-on-click btn btn-primary btn-xs\" data-downloadurl=\"https://ar.kairosweb.com/download/bd_20231212_mdb_provisorio-zip/?wpdmdl=25338&amp;refresh=65773c309f89d1702313008\" href=\"#\" rel=\"nofollow\">Descargar</a>, <a class=\"wpdm-download-link download-on-click btn btn-primary btn-xs\" data-downloadurl=\"https://ar.kairosweb.com/download/bd_20231212_provisorio-zip/?wpdmdl=25337&amp;refresh=65773c30a13821702313008\" href=\"#\" rel=\"nofollow\">Descargar</a>, <a class=\"wpdm-download-link download-on-click btn btn-primary btn-xs\" data-downloadurl=\"https://ar.kairosweb.com/download/bd_20231211_mdb-zip/?wpdmdl=25335&amp;refresh=65773c30a2ac81702313008\" href=\"#\" rel=\"nofollow\">Descargar</a>, <a class=\"wpdm-download-link download-on-click btn btn-primary btn-xs\" data-downloadurl=\"https://ar.kairosweb.com/download/bd_20231211-zip/?wpdmdl=25334&amp;refresh=65773c30a423c1702313008\" href=\"#\" rel=\"nofollow\">Descargar</a>, <a class=\"wpdm-download-link download-on-click btn btn-primary btn-xs\" data-downloadurl=\"https://ar.kairosweb.com/download/bd_20231210_mdb-zip/?wpdmdl=25333&amp;refresh=65773c30a58e21702313008\" href=\"#\" rel=\"nofollow\">Descargar</a>, <a class=\"wpdm-download-link download-on-click btn btn-primary btn-xs\" data-downloadurl=\"https://ar.kairosweb.com/download/bd_20231210-zip/?wpdmdl=25331&amp;refresh=65773c30a70a31702313008\" href=\"#\" rel=\"nofollow\">Descargar</a>, <a class=\"wpdm-download-link download-on-click btn btn-primary btn-xs\" data-downloadurl=\"https://ar.kairosweb.com/download/bd_20231209_mdb-zip/?wpdmdl=25330&amp;refresh=65773c30a918e1702313008\" href=\"#\" rel=\"nofollow\">Descargar</a>, <a class=\"wpdm-download-link download-on-click btn btn-primary btn-xs\" data-downloadurl=\"https://ar.kairosweb.com/download/bd_20231209-zip/?wpdmdl=25329&amp;refresh=65773c30aa68b1702313008\" href=\"#\" rel=\"nofollow\">Descargar</a>, <a class=\"wpdm-download-link download-on-click btn btn-primary btn-xs\" data-downloadurl=\"https://ar.kairosweb.com/download/bd_20231208_mdb-zip/?wpdmdl=25328&amp;refresh=65773c30abc671702313008\" href=\"#\" rel=\"nofollow\">Descargar</a>, <a class=\"wpdm-download-link download-on-click btn btn-primary btn-xs\" data-downloadurl=\"https://ar.kairosweb.com/download/bd_20231208-zip/?wpdmdl=25327&amp;refresh=65773c30ad4f41702313008\" href=\"#\" rel=\"nofollow\">Descargar</a>]\n",
      "https://ar.kairosweb.com/download/bd_20231211_mdb-zip/?wpdmdl=25335&refresh=65773c30a2ac81702313008\n"
     ]
    }
   ],
   "source": [
    "response = sesion.get(\"https://ar.kairosweb.com/kairos-base-de-datos/\")\n",
    "\n",
    "soup = BeautifulSoup(response.text, \"html.parser\")\n",
    "enlaces = soup.find_all(\"a\", class_=\"wpdm-download-link download-on-click btn btn-primary btn-xs\")\n",
    "\n",
    "print(\"enlaces:\", enlaces)\n",
    "\n",
    "for enlace in enlaces:\n",
    "    dateSubstring = \"20231211\"\n",
    "    if dateSubstring+\"_mdb\" in enlace[\"data-downloadurl\"]:\n",
    "        print(enlace[\"data-downloadurl\"])\n"
   ]
  },
  {
   "cell_type": "markdown",
   "metadata": {},
   "source": [
    "## DOWNLOAD DB"
   ]
  },
  {
   "cell_type": "code",
   "execution_count": 9,
   "metadata": {},
   "outputs": [
    {
     "name": "stdout",
     "output_type": "stream",
     "text": [
      "downloaded\n"
     ]
    }
   ],
   "source": [
    "urlDB = \"https://ar.kairosweb.com/download/bd_\"+dateSubstring+\"_mdb-zip/?wpdmdl=25335&refresh=6577346c453481702311020\"\n",
    "\n",
    "response = sesion.get(urlDB)\n",
    "\n",
    "if response.status_code == 200:\n",
    "    with open(dateSubstring+\"_mdb\"+\".zip\", \"wb\") as f:\n",
    "        f.write(response.content)\n",
    "    print(\"downloaded\")"
   ]
  },
  {
   "cell_type": "markdown",
   "metadata": {},
   "source": [
    "## UNZIP FILE"
   ]
  },
  {
   "cell_type": "code",
   "execution_count": 10,
   "metadata": {},
   "outputs": [
    {
     "name": "stdout",
     "output_type": "stream",
     "text": [
      "unzipped\n"
     ]
    }
   ],
   "source": [
    "UnzipRute = dateSubstring+\"_mdb\"+\".zip\"\n",
    "DestinyFolder = \"./db/\"\n",
    "with zipfile.ZipFile(UnzipRute, 'r') as zip_ref:\n",
    "    zip_ref.extractall(DestinyFolder)\n",
    "    print(\"unzipped\")"
   ]
  },
  {
   "cell_type": "markdown",
   "metadata": {},
   "source": [
    "## CONNECT TO ACCESS DB"
   ]
  },
  {
   "cell_type": "code",
   "execution_count": 11,
   "metadata": {},
   "outputs": [
    {
     "name": "stdout",
     "output_type": "stream",
     "text": [
      "dateSubstring 20231211\n",
      "(8545, 3, '7384.66', datetime.datetime(2023, 12, 9, 0, 0))\n"
     ]
    }
   ],
   "source": [
    "print(\"dateSubstring\", dateSubstring)\n",
    "conn_str = (\n",
    "    r'Driver={Microsoft Access Driver (*.mdb, *.accdb)};'\n",
    "    r'DBQ=C:\\Users\\sanmi\\OneDrive\\Desktop\\SC\\LARK\\TEST\\db\\bd_'+dateSubstring+r'.mdb;'\n",
    ")\n",
    "conn = pyodbc.connect(conn_str)\n",
    "cursor = conn.cursor()\n",
    "\n",
    "cursor.execute(\"SELECT * FROM prc WHERE ClaveProducto=8545 and ClavePresentacion=3\")\n",
    "\n",
    "for row in cursor.fetchall():\n",
    "    print(row)\n",
    "\n",
    "cursor.close()\n",
    "conn.close()\n"
   ]
  }
 ],
 "metadata": {
  "kernelspec": {
   "display_name": "Python 3",
   "language": "python",
   "name": "python3"
  },
  "language_info": {
   "codemirror_mode": {
    "name": "ipython",
    "version": 3
   },
   "file_extension": ".py",
   "mimetype": "text/x-python",
   "name": "python",
   "nbconvert_exporter": "python",
   "pygments_lexer": "ipython3",
   "version": "3.11.7"
  }
 },
 "nbformat": 4,
 "nbformat_minor": 2
}
